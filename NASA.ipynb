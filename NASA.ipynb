{
 "cells": [
  {
   "cell_type": "code",
   "execution_count": 2,
   "metadata": {},
   "outputs": [],
   "source": [
    "import pandas as pd\n",
    "import requests\n",
    "import json\n",
    "import seaborn as sns"
   ]
  },
  {
   "cell_type": "markdown",
   "metadata": {},
   "source": [
    "This is a dataset for all of the asteroids/meteroids that passed by earth in the first week of 2019. Unfortunately NASA only allows pulling 7 days at a time."
   ]
  },
  {
   "cell_type": "code",
   "execution_count": 3,
   "metadata": {},
   "outputs": [],
   "source": [
    "#Read in data\n",
    "nasa_url = 'https://api.nasa.gov/neo/rest/v1/feed'\n",
    "params = {'start_date':'2019-01-01', 'end_date':'2019-01-08', 'api_key':'MpTCw25yrnwutyba5P4fs660nFUiSPJpBKsu4hGa'}\n",
    "nasa_req = requests.get(nasa_url, params=params)\n",
    "nasa_all = json.loads(nasa_req.text)"
   ]
  },
  {
   "cell_type": "markdown",
   "metadata": {},
   "source": [
    "Now that we have the data, we can see what's in it. First, we'll drill down to the near_earth_objects section. We'll look at a sample entry."
   ]
  },
  {
   "cell_type": "code",
   "execution_count": 4,
   "metadata": {},
   "outputs": [
    {
     "data": {
      "text/plain": [
       "{'links': {'self': 'https://api.nasa.gov/neo/rest/v1/neo/3398652?api_key=MpTCw25yrnwutyba5P4fs660nFUiSPJpBKsu4hGa'},\n",
       " 'id': '3398652',\n",
       " 'neo_reference_id': '3398652',\n",
       " 'name': '(2007 YQ56)',\n",
       " 'nasa_jpl_url': 'http://ssd.jpl.nasa.gov/sbdb.cgi?sstr=3398652',\n",
       " 'absolute_magnitude_h': 19.9,\n",
       " 'estimated_diameter': {'kilometers': {'estimated_diameter_min': 0.2783267681,\n",
       "   'estimated_diameter_max': 0.6223575734},\n",
       "  'meters': {'estimated_diameter_min': 278.3267680719,\n",
       "   'estimated_diameter_max': 622.3575733667},\n",
       "  'miles': {'estimated_diameter_min': 0.1729441822,\n",
       "   'estimated_diameter_max': 0.3867149477},\n",
       "  'feet': {'estimated_diameter_min': 913.1455937611,\n",
       "   'estimated_diameter_max': 2041.8556210042}},\n",
       " 'is_potentially_hazardous_asteroid': True,\n",
       " 'close_approach_data': [{'close_approach_date': '2019-01-01',\n",
       "   'epoch_date_close_approach': 1546329600000,\n",
       "   'relative_velocity': {'kilometers_per_second': '15.4294873559',\n",
       "    'kilometers_per_hour': '55546.1544811129',\n",
       "    'miles_per_hour': '34514.2202663337'},\n",
       "   'miss_distance': {'astronomical': '0.0764782917',\n",
       "    'lunar': '29.7500572205',\n",
       "    'kilometers': '11440990',\n",
       "    'miles': '7109101.5'},\n",
       "   'orbiting_body': 'Earth'}],\n",
       " 'is_sentry_object': False}"
      ]
     },
     "execution_count": 4,
     "metadata": {},
     "output_type": "execute_result"
    }
   ],
   "source": [
    "nasa = nasa_all['near_earth_objects']\n",
    "nasa['2019-01-01'][1]"
   ]
  },
  {
   "cell_type": "markdown",
   "metadata": {},
   "source": [
    "The dataset is split out by day. We'll just look at the 8 NEOs that passed by on January 1st."
   ]
  },
  {
   "cell_type": "code",
   "execution_count": 18,
   "metadata": {},
   "outputs": [
    {
     "data": {
      "text/html": [
       "<div>\n",
       "<style scoped>\n",
       "    .dataframe tbody tr th:only-of-type {\n",
       "        vertical-align: middle;\n",
       "    }\n",
       "\n",
       "    .dataframe tbody tr th {\n",
       "        vertical-align: top;\n",
       "    }\n",
       "\n",
       "    .dataframe thead th {\n",
       "        text-align: right;\n",
       "    }\n",
       "</style>\n",
       "<table border=\"1\" class=\"dataframe\">\n",
       "  <thead>\n",
       "    <tr style=\"text-align: right;\">\n",
       "      <th></th>\n",
       "      <th>hazardous</th>\n",
       "      <th>velocity</th>\n",
       "      <th>miss_distance</th>\n",
       "      <th>diameter</th>\n",
       "    </tr>\n",
       "  </thead>\n",
       "  <tbody>\n",
       "    <tr>\n",
       "      <th>0</th>\n",
       "      <td>False</td>\n",
       "      <td>23260.1</td>\n",
       "      <td>1.79876e+07</td>\n",
       "      <td>43.0566</td>\n",
       "    </tr>\n",
       "    <tr>\n",
       "      <th>1</th>\n",
       "      <td>True</td>\n",
       "      <td>55546.2</td>\n",
       "      <td>1.1441e+07</td>\n",
       "      <td>622.358</td>\n",
       "    </tr>\n",
       "    <tr>\n",
       "      <th>2</th>\n",
       "      <td>False</td>\n",
       "      <td>42187.1</td>\n",
       "      <td>1.02207e+07</td>\n",
       "      <td>85.9093</td>\n",
       "    </tr>\n",
       "    <tr>\n",
       "      <th>3</th>\n",
       "      <td>False</td>\n",
       "      <td>49114.6</td>\n",
       "      <td>7.03373e+07</td>\n",
       "      <td>411.188</td>\n",
       "    </tr>\n",
       "    <tr>\n",
       "      <th>4</th>\n",
       "      <td>False</td>\n",
       "      <td>29441.4</td>\n",
       "      <td>3.03341e+07</td>\n",
       "      <td>85.9093</td>\n",
       "    </tr>\n",
       "    <tr>\n",
       "      <th>5</th>\n",
       "      <td>False</td>\n",
       "      <td>30126.9</td>\n",
       "      <td>1.91084e+07</td>\n",
       "      <td>89.958</td>\n",
       "    </tr>\n",
       "    <tr>\n",
       "      <th>6</th>\n",
       "      <td>False</td>\n",
       "      <td>43435</td>\n",
       "      <td>5.72133e+07</td>\n",
       "      <td>156.329</td>\n",
       "    </tr>\n",
       "    <tr>\n",
       "      <th>7</th>\n",
       "      <td>False</td>\n",
       "      <td>19443.6</td>\n",
       "      <td>1.59691e+07</td>\n",
       "      <td>94.1976</td>\n",
       "    </tr>\n",
       "  </tbody>\n",
       "</table>\n",
       "</div>"
      ],
      "text/plain": [
       "  hazardous velocity miss_distance diameter\n",
       "0     False  23260.1   1.79876e+07  43.0566\n",
       "1      True  55546.2    1.1441e+07  622.358\n",
       "2     False  42187.1   1.02207e+07  85.9093\n",
       "3     False  49114.6   7.03373e+07  411.188\n",
       "4     False  29441.4   3.03341e+07  85.9093\n",
       "5     False  30126.9   1.91084e+07   89.958\n",
       "6     False    43435   5.72133e+07  156.329\n",
       "7     False  19443.6   1.59691e+07  94.1976"
      ]
     },
     "execution_count": 18,
     "metadata": {},
     "output_type": "execute_result"
    }
   ],
   "source": [
    "NEO = pd.DataFrame(index = range(8), columns = {'diameter', 'hazardous', 'velocity', 'miss_distance'})\n",
    "for i in range(len(nasa['2019-01-01'])):\n",
    "    NEO['diameter'][i] = float(nasa['2019-01-01'][i]['estimated_diameter']['meters']['estimated_diameter_max'])\n",
    "    NEO['hazardous'][i] = nasa['2019-01-01'][i]['is_potentially_hazardous_asteroid']\n",
    "    NEO['velocity'][i] = float(nasa['2019-01-01'][i]['close_approach_data'][0]['relative_velocity']['kilometers_per_hour'])\n",
    "    NEO['miss_distance'][i] = float(nasa['2019-01-01'][i]['close_approach_data'][0]['miss_distance']['kilometers'])\n",
    "NEO"
   ]
  },
  {
   "cell_type": "markdown",
   "metadata": {},
   "source": [
    "This is the relative relationship between miss distance and velocity of the asteroid. The higher velocity, the more damage!"
   ]
  },
  {
   "cell_type": "code",
   "execution_count": 19,
   "metadata": {},
   "outputs": [
    {
     "data": {
      "text/plain": [
       "<matplotlib.axes._subplots.AxesSubplot at 0x7ff5615e18d0>"
      ]
     },
     "execution_count": 19,
     "metadata": {},
     "output_type": "execute_result"
    },
    {
     "data": {
      "image/png": "[encoded data removed]",
      "text/plain": [
       "<Figure size 432x288 with 1 Axes>"
      ]
     },
     "metadata": {
      "needs_background": "light"
     },
     "output_type": "display_data"
    }
   ],
   "source": [
    "sns.scatterplot(x = 'miss_distance', y = 'velocity', data = NEO)"
   ]
  },
  {
   "cell_type": "markdown",
   "metadata": {},
   "source": [
    "This is the relative relationship between miss distance and diameter of the asteroid. The larger the diameter, the more damage!"
   ]
  },
  {
   "cell_type": "code",
   "execution_count": 20,
   "metadata": {},
   "outputs": [
    {
     "data": {
      "text/plain": [
       "<matplotlib.axes._subplots.AxesSubplot at 0x7ff561440f28>"
      ]
     },
     "execution_count": 20,
     "metadata": {},
     "output_type": "execute_result"
    },
    {
     "data": {
      "image/png": "[encoded data removed]",
      "text/plain": [
       "<Figure size 432x288 with 1 Axes>"
      ]
     },
     "metadata": {
      "needs_background": "light"
     },
     "output_type": "display_data"
    }
   ],
   "source": [
    "sns.scatterplot(x = 'miss_distance', y = 'diameter', data = NEO)"
   ]
  }
 ],
 "metadata": {
  "kernelspec": {
   "display_name": "Python 3",
   "language": "python",
   "name": "python3"
  },
  "language_info": {
   "codemirror_mode": {
    "name": "ipython",
    "version": 3
   },
   "file_extension": ".py",
   "mimetype": "text/x-python",
   "name": "python",
   "nbconvert_exporter": "python",
   "pygments_lexer": "ipython3",
   "version": "3.7.1"
  }
 },
 "nbformat": 4,
 "nbformat_minor": 2
}
