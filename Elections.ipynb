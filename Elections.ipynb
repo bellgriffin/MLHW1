{
 "cells": [
  {
   "cell_type": "code",
   "execution_count": 24,
   "metadata": {},
   "outputs": [],
   "source": [
    "import pandas as pd\n",
    "import matplotlib as plt\n",
    "import seaborn as sns\n",
    "from sklearn.preprocessing import StandardScaler\n",
    "%matplotlib inline"
   ]
  },
  {
   "cell_type": "markdown",
   "metadata": {},
   "source": [
    "This is a dataset for all election data for the 2018 midterms in the United States. It also includes the data from the 2016 and 2012 presidential elections on the county level."
   ]
  },
  {
   "cell_type": "code",
   "execution_count": 2,
   "metadata": {},
   "outputs": [
    {
     "data": {
      "text/html": [
       "<div>\n",
       "<style scoped>\n",
       "    .dataframe tbody tr th:only-of-type {\n",
       "        vertical-align: middle;\n",
       "    }\n",
       "\n",
       "    .dataframe tbody tr th {\n",
       "        vertical-align: top;\n",
       "    }\n",
       "\n",
       "    .dataframe thead th {\n",
       "        text-align: right;\n",
       "    }\n",
       "</style>\n",
       "<table border=\"1\" class=\"dataframe\">\n",
       "  <thead>\n",
       "    <tr style=\"text-align: right;\">\n",
       "      <th></th>\n",
       "      <th>fips</th>\n",
       "      <th>trump16</th>\n",
       "      <th>clinton16</th>\n",
       "      <th>otherpres16</th>\n",
       "      <th>romney12</th>\n",
       "      <th>obama12</th>\n",
       "      <th>otherpres12</th>\n",
       "      <th>demsen16</th>\n",
       "      <th>repsen16</th>\n",
       "      <th>othersen16</th>\n",
       "      <th>...</th>\n",
       "      <th>age29andunder_pct</th>\n",
       "      <th>age65andolder_pct</th>\n",
       "      <th>median_hh_inc</th>\n",
       "      <th>clf_unemploy_pct</th>\n",
       "      <th>lesshs_pct</th>\n",
       "      <th>lesscollege_pct</th>\n",
       "      <th>lesshs_whites_pct</th>\n",
       "      <th>lesscollege_whites_pct</th>\n",
       "      <th>rural_pct</th>\n",
       "      <th>ruralurban_cc</th>\n",
       "    </tr>\n",
       "  </thead>\n",
       "  <tbody>\n",
       "    <tr>\n",
       "      <th>count</th>\n",
       "      <td>3114.000000</td>\n",
       "      <td>3114.000000</td>\n",
       "      <td>3.114000e+03</td>\n",
       "      <td>3114.000000</td>\n",
       "      <td>3114.000000</td>\n",
       "      <td>3.114000e+03</td>\n",
       "      <td>3114.000000</td>\n",
       "      <td>1.942000e+03</td>\n",
       "      <td>1942.000000</td>\n",
       "      <td>1942.000000</td>\n",
       "      <td>...</td>\n",
       "      <td>3111.000000</td>\n",
       "      <td>3111.000000</td>\n",
       "      <td>3111.00000</td>\n",
       "      <td>3111.000000</td>\n",
       "      <td>3111.000000</td>\n",
       "      <td>3111.000000</td>\n",
       "      <td>3111.000000</td>\n",
       "      <td>3111.000000</td>\n",
       "      <td>3113.000000</td>\n",
       "      <td>3113.000000</td>\n",
       "    </tr>\n",
       "    <tr>\n",
       "      <th>mean</th>\n",
       "      <td>30660.117855</td>\n",
       "      <td>20171.786448</td>\n",
       "      <td>2.110600e+04</td>\n",
       "      <td>2459.164419</td>\n",
       "      <td>19433.805716</td>\n",
       "      <td>2.106226e+04</td>\n",
       "      <td>839.764611</td>\n",
       "      <td>2.574812e+04</td>\n",
       "      <td>19936.436148</td>\n",
       "      <td>1790.051493</td>\n",
       "      <td>...</td>\n",
       "      <td>37.342346</td>\n",
       "      <td>17.634368</td>\n",
       "      <td>47817.63838</td>\n",
       "      <td>7.064097</td>\n",
       "      <td>14.225599</td>\n",
       "      <td>79.216478</td>\n",
       "      <td>11.044488</td>\n",
       "      <td>77.001023</td>\n",
       "      <td>58.470368</td>\n",
       "      <td>4.984260</td>\n",
       "    </tr>\n",
       "    <tr>\n",
       "      <th>std</th>\n",
       "      <td>14984.811176</td>\n",
       "      <td>43162.140286</td>\n",
       "      <td>8.052001e+04</td>\n",
       "      <td>7514.783991</td>\n",
       "      <td>44577.392198</td>\n",
       "      <td>7.401418e+04</td>\n",
       "      <td>2949.902265</td>\n",
       "      <td>1.062836e+05</td>\n",
       "      <td>38095.362416</td>\n",
       "      <td>5114.666594</td>\n",
       "      <td>...</td>\n",
       "      <td>5.439730</td>\n",
       "      <td>4.442080</td>\n",
       "      <td>12482.36596</td>\n",
       "      <td>3.228842</td>\n",
       "      <td>6.543414</td>\n",
       "      <td>9.138770</td>\n",
       "      <td>5.327779</td>\n",
       "      <td>10.358919</td>\n",
       "      <td>31.459458</td>\n",
       "      <td>2.702364</td>\n",
       "    </tr>\n",
       "    <tr>\n",
       "      <th>min</th>\n",
       "      <td>1001.000000</td>\n",
       "      <td>0.000000</td>\n",
       "      <td>0.000000e+00</td>\n",
       "      <td>0.000000</td>\n",
       "      <td>54.000000</td>\n",
       "      <td>5.000000e+00</td>\n",
       "      <td>0.000000</td>\n",
       "      <td>8.000000e+00</td>\n",
       "      <td>0.000000</td>\n",
       "      <td>0.000000</td>\n",
       "      <td>...</td>\n",
       "      <td>11.842105</td>\n",
       "      <td>3.854570</td>\n",
       "      <td>18972.00000</td>\n",
       "      <td>0.000000</td>\n",
       "      <td>1.278772</td>\n",
       "      <td>19.789880</td>\n",
       "      <td>0.000000</td>\n",
       "      <td>9.188199</td>\n",
       "      <td>0.000000</td>\n",
       "      <td>1.000000</td>\n",
       "    </tr>\n",
       "    <tr>\n",
       "      <th>25%</th>\n",
       "      <td>19039.500000</td>\n",
       "      <td>3216.250000</td>\n",
       "      <td>1.170000e+03</td>\n",
       "      <td>183.000000</td>\n",
       "      <td>2909.000000</td>\n",
       "      <td>1.553000e+03</td>\n",
       "      <td>74.000000</td>\n",
       "      <td>1.571000e+03</td>\n",
       "      <td>3225.750000</td>\n",
       "      <td>90.000000</td>\n",
       "      <td>...</td>\n",
       "      <td>34.163145</td>\n",
       "      <td>14.831727</td>\n",
       "      <td>39681.00000</td>\n",
       "      <td>4.952997</td>\n",
       "      <td>9.307582</td>\n",
       "      <td>75.317416</td>\n",
       "      <td>7.231642</td>\n",
       "      <td>72.886802</td>\n",
       "      <td>33.197178</td>\n",
       "      <td>2.000000</td>\n",
       "    </tr>\n",
       "    <tr>\n",
       "      <th>50%</th>\n",
       "      <td>29210.000000</td>\n",
       "      <td>7239.500000</td>\n",
       "      <td>3.178000e+03</td>\n",
       "      <td>499.000000</td>\n",
       "      <td>6445.500000</td>\n",
       "      <td>3.999000e+03</td>\n",
       "      <td>179.000000</td>\n",
       "      <td>4.024500e+03</td>\n",
       "      <td>7045.500000</td>\n",
       "      <td>399.000000</td>\n",
       "      <td>...</td>\n",
       "      <td>37.000969</td>\n",
       "      <td>17.280145</td>\n",
       "      <td>46250.00000</td>\n",
       "      <td>6.761641</td>\n",
       "      <td>12.773185</td>\n",
       "      <td>81.474694</td>\n",
       "      <td>9.938900</td>\n",
       "      <td>79.452055</td>\n",
       "      <td>59.412038</td>\n",
       "      <td>6.000000</td>\n",
       "    </tr>\n",
       "    <tr>\n",
       "      <th>75%</th>\n",
       "      <td>46006.500000</td>\n",
       "      <td>17886.000000</td>\n",
       "      <td>9.827750e+03</td>\n",
       "      <td>1674.000000</td>\n",
       "      <td>16315.250000</td>\n",
       "      <td>1.134850e+04</td>\n",
       "      <td>529.750000</td>\n",
       "      <td>1.320750e+04</td>\n",
       "      <td>18261.250000</td>\n",
       "      <td>1367.500000</td>\n",
       "      <td>...</td>\n",
       "      <td>39.984573</td>\n",
       "      <td>19.933773</td>\n",
       "      <td>53563.50000</td>\n",
       "      <td>8.774941</td>\n",
       "      <td>18.307272</td>\n",
       "      <td>85.567853</td>\n",
       "      <td>13.947282</td>\n",
       "      <td>83.918746</td>\n",
       "      <td>87.012987</td>\n",
       "      <td>7.000000</td>\n",
       "    </tr>\n",
       "    <tr>\n",
       "      <th>max</th>\n",
       "      <td>56045.000000</td>\n",
       "      <td>769743.000000</td>\n",
       "      <td>2.464364e+06</td>\n",
       "      <td>200201.000000</td>\n",
       "      <td>885333.000000</td>\n",
       "      <td>2.216903e+06</td>\n",
       "      <td>78831.000000</td>\n",
       "      <td>3.113911e+06</td>\n",
       "      <td>529781.000000</td>\n",
       "      <td>100877.000000</td>\n",
       "      <td>...</td>\n",
       "      <td>70.981316</td>\n",
       "      <td>53.106375</td>\n",
       "      <td>125672.00000</td>\n",
       "      <td>29.927415</td>\n",
       "      <td>51.479358</td>\n",
       "      <td>97.014925</td>\n",
       "      <td>41.758287</td>\n",
       "      <td>95.918367</td>\n",
       "      <td>100.000000</td>\n",
       "      <td>9.000000</td>\n",
       "    </tr>\n",
       "  </tbody>\n",
       "</table>\n",
       "<p>8 rows × 37 columns</p>\n",
       "</div>"
      ],
      "text/plain": [
       "               fips        trump16     clinton16    otherpres16  \\\n",
       "count   3114.000000    3114.000000  3.114000e+03    3114.000000   \n",
       "mean   30660.117855   20171.786448  2.110600e+04    2459.164419   \n",
       "std    14984.811176   43162.140286  8.052001e+04    7514.783991   \n",
       "min     1001.000000       0.000000  0.000000e+00       0.000000   \n",
       "25%    19039.500000    3216.250000  1.170000e+03     183.000000   \n",
       "50%    29210.000000    7239.500000  3.178000e+03     499.000000   \n",
       "75%    46006.500000   17886.000000  9.827750e+03    1674.000000   \n",
       "max    56045.000000  769743.000000  2.464364e+06  200201.000000   \n",
       "\n",
       "            romney12       obama12   otherpres12      demsen16       repsen16  \\\n",
       "count    3114.000000  3.114000e+03   3114.000000  1.942000e+03    1942.000000   \n",
       "mean    19433.805716  2.106226e+04    839.764611  2.574812e+04   19936.436148   \n",
       "std     44577.392198  7.401418e+04   2949.902265  1.062836e+05   38095.362416   \n",
       "min        54.000000  5.000000e+00      0.000000  8.000000e+00       0.000000   \n",
       "25%      2909.000000  1.553000e+03     74.000000  1.571000e+03    3225.750000   \n",
       "50%      6445.500000  3.999000e+03    179.000000  4.024500e+03    7045.500000   \n",
       "75%     16315.250000  1.134850e+04    529.750000  1.320750e+04   18261.250000   \n",
       "max    885333.000000  2.216903e+06  78831.000000  3.113911e+06  529781.000000   \n",
       "\n",
       "          othersen16      ...        age29andunder_pct  age65andolder_pct  \\\n",
       "count    1942.000000      ...              3111.000000        3111.000000   \n",
       "mean     1790.051493      ...                37.342346          17.634368   \n",
       "std      5114.666594      ...                 5.439730           4.442080   \n",
       "min         0.000000      ...                11.842105           3.854570   \n",
       "25%        90.000000      ...                34.163145          14.831727   \n",
       "50%       399.000000      ...                37.000969          17.280145   \n",
       "75%      1367.500000      ...                39.984573          19.933773   \n",
       "max    100877.000000      ...                70.981316          53.106375   \n",
       "\n",
       "       median_hh_inc  clf_unemploy_pct   lesshs_pct  lesscollege_pct  \\\n",
       "count     3111.00000       3111.000000  3111.000000      3111.000000   \n",
       "mean     47817.63838          7.064097    14.225599        79.216478   \n",
       "std      12482.36596          3.228842     6.543414         9.138770   \n",
       "min      18972.00000          0.000000     1.278772        19.789880   \n",
       "25%      39681.00000          4.952997     9.307582        75.317416   \n",
       "50%      46250.00000          6.761641    12.773185        81.474694   \n",
       "75%      53563.50000          8.774941    18.307272        85.567853   \n",
       "max     125672.00000         29.927415    51.479358        97.014925   \n",
       "\n",
       "       lesshs_whites_pct  lesscollege_whites_pct    rural_pct  ruralurban_cc  \n",
       "count        3111.000000             3111.000000  3113.000000    3113.000000  \n",
       "mean           11.044488               77.001023    58.470368       4.984260  \n",
       "std             5.327779               10.358919    31.459458       2.702364  \n",
       "min             0.000000                9.188199     0.000000       1.000000  \n",
       "25%             7.231642               72.886802    33.197178       2.000000  \n",
       "50%             9.938900               79.452055    59.412038       6.000000  \n",
       "75%            13.947282               83.918746    87.012987       7.000000  \n",
       "max            41.758287               95.918367   100.000000       9.000000  \n",
       "\n",
       "[8 rows x 37 columns]"
      ]
     },
     "execution_count": 2,
     "metadata": {},
     "output_type": "execute_result"
    }
   ],
   "source": [
    "#Read in data, sanity check the data\n",
    "election = pd.read_csv(\"https://raw.githubusercontent.com/MEDSL/2018-elections-unoffical/master/election-context-2018.csv\",\n",
    "                      sep = \",\", header=0)\n",
    "election.describe()"
   ]
  },
  {
   "cell_type": "markdown",
   "metadata": {},
   "source": [
    "We can see in the summary statistic table that the max is much higher for Clinton and Obama than for Trump or Romney. At the same time, the median is higher for Trump and Romney. This suggests that Clinton and Obama had very high-population counties go their way while Trump and Romney won smaller counties."
   ]
  },
  {
   "cell_type": "code",
   "execution_count": 3,
   "metadata": {},
   "outputs": [
    {
     "name": "stdout",
     "output_type": "stream",
     "text": [
      "<class 'pandas.core.frame.DataFrame'>\n",
      "RangeIndex: 3114 entries, 0 to 3113\n",
      "Data columns (total 39 columns):\n",
      "state                     3114 non-null object\n",
      "county                    3114 non-null object\n",
      "fips                      3114 non-null int64\n",
      "trump16                   3114 non-null int64\n",
      "clinton16                 3114 non-null int64\n",
      "otherpres16               3114 non-null int64\n",
      "romney12                  3114 non-null int64\n",
      "obama12                   3114 non-null int64\n",
      "otherpres12               3114 non-null int64\n",
      "demsen16                  1942 non-null float64\n",
      "repsen16                  1942 non-null float64\n",
      "othersen16                1942 non-null float64\n",
      "demhouse16                2862 non-null float64\n",
      "rephouse16                2862 non-null float64\n",
      "otherhouse16              2862 non-null float64\n",
      "demgov16                  601 non-null float64\n",
      "repgov16                  601 non-null float64\n",
      "othergov16                601 non-null float64\n",
      "repgov14                  2148 non-null float64\n",
      "demgov14                  2148 non-null float64\n",
      "othergov14                2148 non-null float64\n",
      "total_population          3111 non-null float64\n",
      "cvap                      3111 non-null float64\n",
      "white_pct                 3111 non-null float64\n",
      "black_pct                 3111 non-null float64\n",
      "hispanic_pct              3111 non-null float64\n",
      "nonwhite_pct              3111 non-null float64\n",
      "foreignborn_pct           3111 non-null float64\n",
      "female_pct                3111 non-null float64\n",
      "age29andunder_pct         3111 non-null float64\n",
      "age65andolder_pct         3111 non-null float64\n",
      "median_hh_inc             3111 non-null float64\n",
      "clf_unemploy_pct          3111 non-null float64\n",
      "lesshs_pct                3111 non-null float64\n",
      "lesscollege_pct           3111 non-null float64\n",
      "lesshs_whites_pct         3111 non-null float64\n",
      "lesscollege_whites_pct    3111 non-null float64\n",
      "rural_pct                 3113 non-null float64\n",
      "ruralurban_cc             3113 non-null float64\n",
      "dtypes: float64(30), int64(7), object(2)\n",
      "memory usage: 948.9+ KB\n"
     ]
    }
   ],
   "source": [
    "election.info()"
   ]
  },
  {
   "cell_type": "code",
   "execution_count": 4,
   "metadata": {},
   "outputs": [
    {
     "data": {
      "text/plain": [
       "50"
      ]
     },
     "execution_count": 4,
     "metadata": {},
     "output_type": "execute_result"
    }
   ],
   "source": [
    "#Make sure all 50 states are represented\n",
    "election['state'].unique().size"
   ]
  },
  {
   "cell_type": "markdown",
   "metadata": {},
   "source": [
    "Check to make sure there are no mistakenly large counties that would skew the data."
   ]
  },
  {
   "cell_type": "code",
   "execution_count": 5,
   "metadata": {},
   "outputs": [
    {
     "data": {
      "text/plain": [
       "<matplotlib.axes._subplots.AxesSubplot at 0x7fd210ddaeb8>"
      ]
     },
     "execution_count": 5,
     "metadata": {},
     "output_type": "execute_result"
    },
    {
     "data": {
      "image/png": "[encoded data removed]",
      "text/plain": [
       "<Figure size 432x288 with 1 Axes>"
      ]
     },
     "metadata": {
      "needs_background": "light"
     },
     "output_type": "display_data"
    }
   ],
   "source": [
    "election[['trump16', 'clinton16', 'romney12', 'obama12', 'total_population']].boxplot()"
   ]
  },
  {
   "cell_type": "markdown",
   "metadata": {},
   "source": [
    "Total population was expected to be the largest and it was. The numbers are consistent with what we would expect counties to have in population.\n",
    "\n",
    "Now we will visualise the data and see what story it tells."
   ]
  },
  {
   "cell_type": "code",
   "execution_count": 13,
   "metadata": {},
   "outputs": [
    {
     "data": {
      "text/plain": [
       "<matplotlib.axes._subplots.AxesSubplot at 0x7fd1d36c6780>"
      ]
     },
     "execution_count": 13,
     "metadata": {},
     "output_type": "execute_result"
    },
    {
     "data": {
      "image/png": "[encoded data removed]",
      "text/plain": [
       "<Figure size 432x288 with 1 Axes>"
      ]
     },
     "metadata": {
      "needs_background": "light"
     },
     "output_type": "display_data"
    }
   ],
   "source": [
    "election.plot(x = 'trump16', y = 'romney12', kind = 'scatter')"
   ]
  },
  {
   "cell_type": "code",
   "execution_count": 14,
   "metadata": {},
   "outputs": [
    {
     "data": {
      "text/plain": [
       "<matplotlib.axes._subplots.AxesSubplot at 0x7fd1d3586390>"
      ]
     },
     "execution_count": 14,
     "metadata": {},
     "output_type": "execute_result"
    },
    {
     "data": {
      "image/png": "[encoded data removed]",
      "text/plain": [
       "<Figure size 432x288 with 1 Axes>"
      ]
     },
     "metadata": {
      "needs_background": "light"
     },
     "output_type": "display_data"
    }
   ],
   "source": [
    "election.plot(x = 'clinton16', y = 'obama12', kind = 'scatter')"
   ]
  },
  {
   "cell_type": "markdown",
   "metadata": {},
   "source": [
    "Let's now visualise the counties that Trump won compared with those that Clinton won."
   ]
  },
  {
   "cell_type": "code",
   "execution_count": 35,
   "metadata": {},
   "outputs": [
    {
     "data": {
      "text/plain": [
       "<matplotlib.axes._subplots.AxesSubplot at 0x7fd1d2f2f7f0>"
      ]
     },
     "execution_count": 35,
     "metadata": {},
     "output_type": "execute_result"
    },
    {
     "data": {
      "image/png": "[encoded data removed]",
      "text/plain": [
       "<Figure size 432x288 with 1 Axes>"
      ]
     },
     "metadata": {
      "needs_background": "light"
     },
     "output_type": "display_data"
    }
   ],
   "source": [
    "election['TrumpWon'] = election['trump16'] > election['clinton16']\n",
    "sns.scatterplot(x = 'trump16', y = 'clinton16', style = 'TrumpWon', hue = 'lesscollege_whites_pct', data = election)"
   ]
  },
  {
   "cell_type": "markdown",
   "metadata": {},
   "source": [
    "Clearly those counties with higher percentages of non-college educated whites swung more in favor of Donald Trump than of Hillary Clinton."
   ]
  }
 ],
 "metadata": {
  "kernelspec": {
   "display_name": "Python 3",
   "language": "python",
   "name": "python3"
  },
  "language_info": {
   "codemirror_mode": {
    "name": "ipython",
    "version": 3
   },
   "file_extension": ".py",
   "mimetype": "text/x-python",
   "name": "python",
   "nbconvert_exporter": "python",
   "pygments_lexer": "ipython3",
   "version": "3.7.1"
  }
 },
 "nbformat": 4,
 "nbformat_minor": 2
}
